{
 "cells": [
  {
   "cell_type": "code",
   "execution_count": 2,
   "metadata": {},
   "outputs": [
    {
     "name": "stdout",
     "output_type": "stream",
     "text": [
      "2803\n",
      "3\n",
      "13\n",
      "2\n",
      "(tensor([0.0000e+00,        nan, 2.2794e+02, 1.2776e+02, 2.2619e+04, 6.4381e+02,\n",
      "               nan, 9.7338e-01, 1.4583e+00,        nan,        nan, 6.8119e-01,\n",
      "        2.3238e+04]), tensor(0, dtype=torch.int32))\n"
     ]
    }
   ],
   "source": [
    "from lib.AlmondDataset import AlmondDataset\n",
    "\n",
    "almonds = AlmondDataset('data', is_train=False)\n",
    "\n",
    "print(len(almonds))\n",
    "print(almonds.num_classes())\n",
    "print(almonds.num_features())\n",
    "print(len(almonds[0]))\n",
    "print(almonds[0])"
   ]
  },
  {
   "cell_type": "code",
   "execution_count": null,
   "metadata": {},
   "outputs": [],
   "source": []
  }
 ],
 "metadata": {
  "kernelspec": {
   "display_name": "COS711-A2",
   "language": "python",
   "name": "python3"
  },
  "language_info": {
   "codemirror_mode": {
    "name": "ipython",
    "version": 3
   },
   "file_extension": ".py",
   "mimetype": "text/x-python",
   "name": "python",
   "nbconvert_exporter": "python",
   "pygments_lexer": "ipython3",
   "version": "3.12.1"
  }
 },
 "nbformat": 4,
 "nbformat_minor": 2
}
